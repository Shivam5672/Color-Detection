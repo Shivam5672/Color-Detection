{
 "cells": [
  {
   "cell_type": "code",
   "execution_count": 5,
   "id": "21ad76d2-2ae2-469f-8549-369925fc5c50",
   "metadata": {},
   "outputs": [],
   "source": [
    "import cv2\n",
    "from PIL import Image\n",
    "import numpy as np"
   ]
  },
  {
   "cell_type": "code",
   "execution_count": 6,
   "id": "22adc797-638c-4548-9048-57de6f0b587e",
   "metadata": {},
   "outputs": [],
   "source": [
    "def get_limits(color):\n",
    "    c = np.uint8([[color]]) \n",
    "    hsvC = cv2.cvtColor(c, cv2.COLOR_BGR2HSV)\n",
    "    lowerlimit = hsvC[0][0][0] - 10,100,100\n",
    "    upperlimit = hsvC[0][0][0] + 10,255,255\n",
    "    lowerlimit = np.array(lowerlimit, dtype=np.uint8)\n",
    "    upperlimit = np.array(upperlimit, dtype=np.uint8)\n",
    "    return lowerlimit, upperlimit"
   ]
  },
  {
   "cell_type": "code",
   "execution_count": 7,
   "id": "13e4daa4-406c-46a4-aa0f-e70cdc70ff00",
   "metadata": {},
   "outputs": [],
   "source": [
    "yellow = [0,255,255]\n",
    "cap = cv2.VideoCapture(0)"
   ]
  },
  {
   "cell_type": "code",
   "execution_count": null,
   "id": "11c11fba-39d3-4096-9749-0aaa4b5ccf77",
   "metadata": {},
   "outputs": [],
   "source": [
    "while True:\n",
    "    ret, frame = cap.read()\n",
    "    hsvImage = cv2.cvtColor(frame, cv2.COLOR_BGR2HSV)\n",
    "    lowerlimit, upperlimit = get_limits(color=yellow)\n",
    "    mask = cv2.inRange(hsvImage, lowerlimit, upperlimit)\n",
    "    mask_ = Image.fromarray(mask)\n",
    "    bbox = mask_.getbbox()\n",
    "    # print(bbox)\n",
    "    if bbox is not None:\n",
    "        x1,y1,x2,y2 = bbox\n",
    "        frame = cv2.rectangle(frame, (x1,y1), (x2,y2), (255,0,0), 5)\n",
    "    cv2.imshow('frame', frame)\n",
    "    if cv2.waitKey(1) & 0xFF == ord('q'):\n",
    "        break\n",
    "\n",
    "cap.release()\n",
    "cv2.destroyAllWindows()\n"
   ]
  },
  {
   "cell_type": "code",
   "execution_count": null,
   "id": "dbde224d-ef31-46e9-9a01-b175b5c9e916",
   "metadata": {},
   "outputs": [],
   "source": []
  }
 ],
 "metadata": {
  "kernelspec": {
   "display_name": "Python 3 (ipykernel)",
   "language": "python",
   "name": "python3"
  },
  "language_info": {
   "codemirror_mode": {
    "name": "ipython",
    "version": 3
   },
   "file_extension": ".py",
   "mimetype": "text/x-python",
   "name": "python",
   "nbconvert_exporter": "python",
   "pygments_lexer": "ipython3",
   "version": "3.11.5"
  }
 },
 "nbformat": 4,
 "nbformat_minor": 5
}
